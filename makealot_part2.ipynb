{
 "cells": [
  {
   "cell_type": "code",
   "execution_count": 2,
   "metadata": {},
   "outputs": [],
   "source": [
    "import torch\n",
    "import torch.nn.functional as f\n",
    "import matplotlib.pyplot as plt\n",
    "%matplotlib inline"
   ]
  },
  {
   "cell_type": "code",
   "execution_count": 47,
   "metadata": {},
   "outputs": [
    {
     "data": {
      "text/plain": [
       "['emma',\n",
       " 'olivia',\n",
       " 'ava',\n",
       " 'isabella',\n",
       " 'sophia',\n",
       " 'charlotte',\n",
       " 'mia',\n",
       " 'amelia',\n",
       " 'harper',\n",
       " 'evelyn']"
      ]
     },
     "execution_count": 47,
     "metadata": {},
     "output_type": "execute_result"
    }
   ],
   "source": [
    "words = open('names.txt', 'r').read().splitlines()\n",
    "words[:10]"
   ]
  },
  {
   "cell_type": "code",
   "execution_count": 4,
   "metadata": {},
   "outputs": [],
   "source": [
    "chars = sorted(list(set(''.join(words))))\n",
    "chtoi = {ch:i+1 for i, ch in enumerate(chars)}\n",
    "chtoi['.']=0\n",
    "itoch = { i:ch for ch, i in chtoi.items()}"
   ]
  },
  {
   "cell_type": "code",
   "execution_count": 49,
   "metadata": {},
   "outputs": [
    {
     "name": "stdout",
     "output_type": "stream",
     "text": [
      "emma\n",
      "... ---> e\n",
      "..e ---> m\n",
      ".em ---> m\n",
      "emm ---> a\n",
      "mma ---> .\n",
      "olivia\n",
      "... ---> o\n",
      "..o ---> l\n",
      ".ol ---> i\n",
      "oli ---> v\n",
      "liv ---> i\n",
      "ivi ---> a\n",
      "via ---> .\n",
      "ava\n",
      "... ---> a\n",
      "..a ---> v\n",
      ".av ---> a\n",
      "ava ---> .\n",
      "isabella\n",
      "... ---> i\n",
      "..i ---> s\n",
      ".is ---> a\n",
      "isa ---> b\n",
      "sab ---> e\n",
      "abe ---> l\n",
      "bel ---> l\n",
      "ell ---> a\n",
      "lla ---> .\n",
      "sophia\n",
      "... ---> s\n",
      "..s ---> o\n",
      ".so ---> p\n",
      "sop ---> h\n",
      "oph ---> i\n",
      "phi ---> a\n",
      "hia ---> .\n"
     ]
    }
   ],
   "source": [
    "block_size = 3\n",
    "X, Y = [], []\n",
    "for w in words[:5]:\n",
    "    print(w)\n",
    "    input = [0]*block_size\n",
    "    for ch in w+'.':\n",
    "        X.append(input)\n",
    "        Y.append(chtoi[ch])\n",
    "        print(f'{\"\".join(itoch[i] for i in input)} ---> {ch}')\n",
    "        input = input[1:] + [chtoi[ch]]"
   ]
  },
  {
   "cell_type": "code",
   "execution_count": 50,
   "metadata": {},
   "outputs": [
    {
     "data": {
      "text/plain": [
       "(torch.Size([32, 3]), torch.int64, torch.Size([32]), torch.int64)"
      ]
     },
     "execution_count": 50,
     "metadata": {},
     "output_type": "execute_result"
    }
   ],
   "source": [
    "X = torch.tensor(X)\n",
    "Y = torch.tensor(Y)\n",
    "X.shape, X.dtype, Y.shape, Y.dtype"
   ]
  },
  {
   "cell_type": "code",
   "execution_count": 7,
   "metadata": {},
   "outputs": [
    {
     "data": {
      "text/plain": [
       "tensor([[-0.9182, -0.5553],\n",
       "        [-0.1225,  0.4573],\n",
       "        [ 0.5216, -0.6032],\n",
       "        [ 1.8226,  0.4763],\n",
       "        [-0.5446, -0.2766],\n",
       "        [ 1.2753, -0.3434],\n",
       "        [-0.0155, -1.0462],\n",
       "        [-0.2745,  0.1608],\n",
       "        [ 1.2130, -0.7377],\n",
       "        [-0.3954, -0.7017],\n",
       "        [-0.7267,  1.5285],\n",
       "        [-0.3032,  0.9890],\n",
       "        [ 0.7340, -1.9196],\n",
       "        [ 0.0765,  0.2410],\n",
       "        [ 2.4034,  1.1753],\n",
       "        [ 0.5360,  1.0516],\n",
       "        [ 0.6241, -1.2760],\n",
       "        [ 1.8417,  0.4155],\n",
       "        [-0.1332,  0.0673],\n",
       "        [ 1.3210,  0.8547],\n",
       "        [ 0.1048,  0.0734],\n",
       "        [-1.6537,  0.0315],\n",
       "        [-0.5569,  0.1361],\n",
       "        [ 1.0808,  0.7537],\n",
       "        [ 0.3245, -1.1650],\n",
       "        [ 0.1541, -0.7390],\n",
       "        [-0.3169,  1.9322]])"
      ]
     },
     "execution_count": 7,
     "metadata": {},
     "output_type": "execute_result"
    }
   ],
   "source": [
    "C = torch.randn((27, 2))\n",
    "C"
   ]
  },
  {
   "cell_type": "code",
   "execution_count": 8,
   "metadata": {},
   "outputs": [
    {
     "data": {
      "text/plain": [
       "torch.Size([16, 3, 2])"
      ]
     },
     "execution_count": 8,
     "metadata": {},
     "output_type": "execute_result"
    }
   ],
   "source": [
    "emb = C[X]\n",
    "emb.shape"
   ]
  },
  {
   "cell_type": "code",
   "execution_count": 10,
   "metadata": {},
   "outputs": [
    {
     "data": {
      "text/plain": [
       "16"
      ]
     },
     "execution_count": 10,
     "metadata": {},
     "output_type": "execute_result"
    }
   ],
   "source": [
    "emb.shape[0]"
   ]
  },
  {
   "cell_type": "code",
   "execution_count": 11,
   "metadata": {},
   "outputs": [
    {
     "data": {
      "text/plain": [
       "6"
      ]
     },
     "execution_count": 11,
     "metadata": {},
     "output_type": "execute_result"
    }
   ],
   "source": [
    "input_shape = emb.shape[1]*emb.shape[2]\n",
    "input_shape"
   ]
  },
  {
   "cell_type": "code",
   "execution_count": 12,
   "metadata": {},
   "outputs": [],
   "source": [
    "W1 = torch.randn((input_shape, 100))\n",
    "b1 = torch.randn(100)"
   ]
  },
  {
   "cell_type": "code",
   "execution_count": 16,
   "metadata": {},
   "outputs": [],
   "source": [
    "h = torch.tanh(emb.view(-1, input_shape) @ W1 + b1)"
   ]
  },
  {
   "cell_type": "code",
   "execution_count": 18,
   "metadata": {},
   "outputs": [
    {
     "data": {
      "text/plain": [
       "(torch.Size([16, 100]),\n",
       " tensor([[-0.4022, -0.6656,  2.2888,  ...,  1.8946, -0.4458,  1.4802],\n",
       "         [ 1.5705, -1.5143, -0.5324,  ...,  0.1629,  0.2896, -1.1964],\n",
       "         [ 1.9921, -0.0846, -1.5123,  ...,  1.0045, -2.9183, -3.2068],\n",
       "         ...,\n",
       "         [ 0.3768, -0.8554,  0.8062,  ...,  1.1316, -0.1131, -0.9185],\n",
       "         [-0.3304, -1.0472,  1.0751,  ...,  2.0635, -1.3416, -2.3324],\n",
       "         [-0.7115, -1.5190,  1.2853,  ...,  1.4599, -0.7922, -1.8785]]))"
      ]
     },
     "execution_count": 18,
     "metadata": {},
     "output_type": "execute_result"
    }
   ],
   "source": [
    "h.shape, h"
   ]
  },
  {
   "cell_type": "code",
   "execution_count": 20,
   "metadata": {},
   "outputs": [
    {
     "data": {
      "text/plain": [
       "torch.Size([100, 27])"
      ]
     },
     "execution_count": 20,
     "metadata": {},
     "output_type": "execute_result"
    }
   ],
   "source": [
    "W2 = torch.randn(100, 27)\n",
    "b2 =  torch.randn(27)"
   ]
  },
  {
   "cell_type": "code",
   "execution_count": 21,
   "metadata": {},
   "outputs": [],
   "source": [
    "logits =  h @ W2 + b2"
   ]
  },
  {
   "cell_type": "code",
   "execution_count": 23,
   "metadata": {},
   "outputs": [
    {
     "data": {
      "text/plain": [
       "(torch.Size([16, 27]),\n",
       " tensor([[ -8.9807,  12.5259,  10.7300,   6.5076,   8.4065,  10.3604,  -6.4691,\n",
       "          -16.8364, -32.5408,  14.6208, -25.1734, -20.9997,  -2.1132, -23.7852,\n",
       "          -29.4941,  13.6104, -30.4476,  -9.5897,  -7.4341,  -3.0655,  -1.3249,\n",
       "           35.2975, -25.6938,  -0.6172,  -7.9907,  15.0752,  25.6180],\n",
       "         [ 16.0697, -21.1190,  31.6168,  -6.4184, -15.6833, -16.0511,  -2.1754,\n",
       "            5.0306, -31.4202,   3.7094, -21.4280,  -1.2397, -15.4183, -20.0887,\n",
       "          -45.2374,  13.1852, -53.2190,  12.2030,  31.4458,  22.8704,  22.8179,\n",
       "            6.9675, -25.5348,  20.4977,   3.2983,  27.8974,   0.1636],\n",
       "         [-25.0017,  12.2983,   6.2614,  -1.6917,  36.8044,  -0.6671,  -4.4793,\n",
       "            4.5874,  -2.3310,  11.0874,   4.9685,  -3.4312,  -5.1914, -28.0060,\n",
       "            6.2852,  20.8949, -42.8667, -48.3094, -13.6024,  33.1259, -23.4837,\n",
       "           21.1755, -18.2252,  10.2364,  28.4566,   3.4833,  11.1099],\n",
       "         [-15.5244,  -6.2522,  25.5234, -24.1743,   5.2235,   1.3457,  -3.1257,\n",
       "           30.0012,  28.8331,   2.6891,   8.4085,   7.2420,   9.0490, -30.5722,\n",
       "            8.2477, -32.1740,  29.3752, -10.0364,  13.7326,  16.7955, -22.2391,\n",
       "            8.2274,  21.2507,   8.5725,  14.3068,   4.0872,  -6.8407],\n",
       "         [-29.3543,  -7.1056,   6.5018, -12.7125,  11.4106,  -5.4592,  -9.7884,\n",
       "            4.6346,  10.1882,   4.7274,  -3.0855,   2.0937,  -2.2692, -22.3145,\n",
       "           -7.1189,   3.8214,   7.3302,  -6.1820,   4.5741,   8.7779,  -5.5694,\n",
       "           15.0500,   8.2571,   7.8005,   9.7874,   2.9887,   4.0998],\n",
       "         [ -8.9807,  12.5259,  10.7300,   6.5076,   8.4065,  10.3604,  -6.4691,\n",
       "          -16.8364, -32.5408,  14.6208, -25.1734, -20.9997,  -2.1132, -23.7852,\n",
       "          -29.4941,  13.6104, -30.4476,  -9.5897,  -7.4341,  -3.0655,  -1.3249,\n",
       "           35.2975, -25.6938,  -0.6172,  -7.9907,  15.0752,  25.6180],\n",
       "         [-13.3393, -21.3477,  18.7445,  -2.3062,  -8.9050,   5.4296, -10.2566,\n",
       "          -17.4690, -10.8818,  16.6506, -11.9181,   3.8920, -32.1509, -21.0212,\n",
       "          -61.2863,  22.3597, -43.6106,  -0.3328,  29.8126,  21.4343,  12.5501,\n",
       "           16.8684, -18.3115,  15.1917,  -3.6040,  30.4584,  -0.3470],\n",
       "         [ -0.1731, -26.1808,  -0.3206,   7.9965,  26.4847, -49.0651,  -4.2885,\n",
       "           31.2785, -36.7046, -21.7194, -12.0046, -16.0359,  27.0555, -31.8705,\n",
       "           11.1412,  -5.5905, -12.7560,  -2.1980,   6.9800,  19.0757,  16.1965,\n",
       "           18.2599, -16.6125,  25.3190,  18.9719,  16.6018,  15.4386],\n",
       "         [  8.2176,  78.2293,  46.3886, -43.0872,   8.3119,  17.6610,  11.7406,\n",
       "           18.4141,   2.7489,  20.8230, -17.5173,  -5.0708,  10.8862,  -7.7901,\n",
       "           46.9978,  16.2038, -35.8561, -31.6047, -48.2259,   1.7752, -43.6825,\n",
       "            0.6647,  -4.5630, -18.4653,  32.7654, -44.1409,  14.4435],\n",
       "         [ -2.0557,  11.4648,  36.5089,  -7.4822,   9.0515,  33.4749,   1.2656,\n",
       "           14.7663,  11.3538,  20.3693,   7.2576,  -5.6692,   0.4535, -40.9917,\n",
       "          -13.7817, -35.2237,  -8.8187, -38.3266,   9.6668,  26.2090, -39.2733,\n",
       "           27.7207,  -7.8067,   3.4028,   4.6962,  23.2129,   3.1220],\n",
       "         [ -9.0341,  -6.4850,   9.9585,   3.2493,  10.8116,  -4.7753,  -6.4014,\n",
       "            3.8312, -20.6340,   2.8341, -14.4138, -14.7181,   7.5435, -29.5029,\n",
       "          -17.2462,  -5.9546,  -7.9643,  -5.4829,   5.2339,   5.5934,   0.1415,\n",
       "           28.2066, -12.8137,   8.6190,  -0.9669,  18.3720,  16.1479],\n",
       "         [-15.7983,   8.8140,  17.3064, -10.9232,   1.8816,   7.1449,  -6.5470,\n",
       "          -11.1997,  -7.8978,  16.1945, -15.3031,  -2.3541, -15.2962, -16.6615,\n",
       "          -25.4684,  22.8667, -31.0659,  -8.2901,   0.1484,   7.9651,  -3.0232,\n",
       "           16.9594, -11.5110,   2.7970,   4.6761,   5.1320,   9.3503],\n",
       "         [ -8.9807,  12.5259,  10.7300,   6.5076,   8.4065,  10.3604,  -6.4691,\n",
       "          -16.8364, -32.5408,  14.6208, -25.1734, -20.9997,  -2.1132, -23.7852,\n",
       "          -29.4941,  13.6104, -30.4476,  -9.5897,  -7.4341,  -3.0655,  -1.3249,\n",
       "           35.2975, -25.6938,  -0.6172,  -7.9907,  15.0752,  25.6180],\n",
       "         [-13.2726,  -7.0607,  14.5847,   1.6628,  -1.1876,   8.8066,  -9.1449,\n",
       "          -18.5587, -18.7873,  16.5740, -16.9408,  -6.3074, -20.4785, -22.2444,\n",
       "          -48.8320,  19.2191, -37.4740,  -4.9968,  13.9892,  11.0043,   6.0732,\n",
       "           25.2459, -20.9926,   8.1975,  -5.8722,  24.1183,  10.5842],\n",
       "         [-33.5149, -15.6329,  -8.7263,  11.4040,  23.6541,  -4.9391, -13.9963,\n",
       "          -10.9764, -13.5085,   5.3496,  -7.3933, -11.1573,  -3.6521, -29.3997,\n",
       "          -25.5127,  11.3327,  -9.6345, -14.7423,   3.9870,   9.7206,   1.7968,\n",
       "           33.8546, -12.1029,  11.2485,   0.2293,  20.8910,  16.9850],\n",
       "         [-25.5853, -11.5123,   7.3928, -11.7283,  -0.2357,  -6.1281, -11.4293,\n",
       "           -4.7624,   0.7618,   5.7384, -13.0941,   0.5869,  -7.7511, -17.7558,\n",
       "          -23.6994,  10.5959,   3.6744,   9.3945,  10.3457,   0.2494,   7.2720,\n",
       "           15.1808,   5.2074,   6.9693,   0.1421,   6.6693,   5.5972]]))"
      ]
     },
     "execution_count": 23,
     "metadata": {},
     "output_type": "execute_result"
    }
   ],
   "source": [
    "logits.shape, logits"
   ]
  },
  {
   "cell_type": "code",
   "execution_count": 24,
   "metadata": {},
   "outputs": [
    {
     "data": {
      "text/plain": [
       "torch.Size([16, 27])"
      ]
     },
     "execution_count": 24,
     "metadata": {},
     "output_type": "execute_result"
    }
   ],
   "source": [
    "counts = torch.exp(logits)\n",
    "counts.shape"
   ]
  },
  {
   "cell_type": "code",
   "execution_count": 26,
   "metadata": {},
   "outputs": [
    {
     "data": {
      "text/plain": [
       "(torch.Size([16, 27]),\n",
       " tensor([[5.8910e-20, 1.2894e-10, 2.1401e-11, 3.1383e-13, 2.0958e-12, 1.4788e-11,\n",
       "          7.2607e-19, 2.2830e-23, 3.4528e-30, 1.0476e-09, 5.4674e-27, 3.5513e-25,\n",
       "          5.6588e-17, 2.1912e-26, 7.2668e-29, 3.8141e-10, 2.8006e-29, 3.2042e-20,\n",
       "          2.7662e-19, 2.1835e-17, 1.2447e-16, 9.9994e-01, 3.2492e-27, 2.5259e-16,\n",
       "          1.5854e-19, 1.6502e-09, 6.2551e-05],\n",
       "         [9.4789e-08, 6.6977e-24, 5.3551e-01, 1.6229e-17, 1.5368e-21, 1.0639e-21,\n",
       "          1.1298e-15, 1.5225e-12, 2.2500e-28, 4.0619e-13, 4.9170e-24, 2.8800e-15,\n",
       "          2.0031e-21, 1.8765e-23, 2.2460e-34, 5.2973e-09, 7.6750e-38, 1.9838e-09,\n",
       "          4.5133e-01, 8.5166e-05, 8.0807e-05, 1.0562e-11, 8.0938e-26, 7.9395e-06,\n",
       "          2.6929e-13, 1.2986e-02, 1.1717e-14],\n",
       "         [1.4030e-27, 2.2193e-11, 5.3019e-14, 1.8640e-17, 9.7513e-01, 5.1929e-17,\n",
       "          1.1477e-18, 9.9406e-15, 9.8351e-18, 6.6122e-12, 1.4552e-14, 3.2732e-18,\n",
       "          5.6305e-19, 6.9547e-29, 5.4297e-14, 1.2013e-07, 2.4456e-35, 1.0584e-37,\n",
       "          1.2522e-22, 2.4634e-02, 6.4015e-27, 1.5904e-07, 1.2303e-24, 2.8233e-12,\n",
       "          2.3105e-04, 3.2956e-15, 6.7626e-12],\n",
       "         [9.1123e-21, 9.6935e-17, 6.1158e-03, 1.5959e-24, 9.3392e-12, 1.9330e-13,\n",
       "          2.2096e-15, 5.3844e-01, 1.6744e-01, 7.4067e-13, 2.2570e-10, 7.0298e-11,\n",
       "          4.2826e-10, 2.6573e-27, 1.9218e-10, 5.3554e-28, 2.8792e-01, 2.2030e-18,\n",
       "          4.6322e-08, 9.9073e-07, 1.1052e-23, 1.8833e-10, 8.5279e-05, 2.6594e-10,\n",
       "          8.2248e-08, 2.9980e-12, 5.3816e-17],\n",
       "         [4.9759e-20, 2.2875e-10, 1.8578e-04, 8.4007e-13, 2.5169e-02, 1.1868e-09,\n",
       "          1.5640e-11, 2.8711e-05, 7.4123e-03, 3.1504e-05, 1.2743e-08, 2.2625e-06,\n",
       "          2.8827e-08, 5.6782e-17, 2.2573e-10, 1.2733e-05, 4.2538e-04, 5.7606e-10,\n",
       "          2.7026e-05, 1.8092e-03, 1.0630e-09, 9.5815e-01, 1.0747e-03, 6.8080e-04,\n",
       "          4.9646e-03, 5.5368e-06, 1.6820e-05],\n",
       "         [5.8910e-20, 1.2894e-10, 2.1401e-11, 3.1383e-13, 2.0958e-12, 1.4788e-11,\n",
       "          7.2607e-19, 2.2830e-23, 3.4528e-30, 1.0476e-09, 5.4674e-27, 3.5513e-25,\n",
       "          5.6588e-17, 2.1912e-26, 7.2668e-29, 3.8141e-10, 2.8006e-29, 3.2042e-20,\n",
       "          2.7662e-19, 2.1835e-17, 1.2447e-16, 9.9994e-01, 3.2492e-27, 2.5259e-16,\n",
       "          1.5854e-19, 1.6502e-09, 6.2551e-05],\n",
       "         [6.2477e-20, 2.0782e-23, 5.3645e-06, 3.8663e-15, 5.2663e-18, 8.8500e-12,\n",
       "          1.3631e-18, 1.0051e-21, 7.2943e-19, 6.6092e-07, 2.5878e-19, 1.9017e-12,\n",
       "          4.2259e-28, 2.8807e-23, 9.3883e-41, 1.9933e-04, 4.4572e-33, 2.7820e-14,\n",
       "          3.4384e-01, 7.9007e-05, 1.0948e-08, 8.2177e-07, 4.3283e-22, 1.5366e-07,\n",
       "          1.0561e-15, 6.5588e-01, 2.7427e-14],\n",
       "         [2.1370e-14, 1.0835e-25, 1.8439e-14, 7.5481e-11, 8.0750e-03, 1.2482e-35,\n",
       "          3.4877e-16, 9.7511e-01, 2.9132e-30, 9.3833e-24, 1.5541e-19, 2.7586e-21,\n",
       "          1.4290e-02, 3.6628e-28, 1.7521e-09, 9.4860e-17, 7.3305e-20, 2.8209e-15,\n",
       "          2.7313e-11, 4.8919e-06, 2.7482e-07, 2.1636e-06, 1.5497e-21, 2.5171e-03,\n",
       "          4.4095e-06, 4.1215e-07, 1.2879e-07],\n",
       "         [3.9291e-31, 1.0000e+00, 1.4851e-14, 0.0000e+00, 4.3175e-31, 4.9602e-27,\n",
       "          1.3314e-29, 1.0533e-26, 1.6568e-33, 1.1715e-25, 2.6162e-42, 6.6559e-37,\n",
       "          5.6654e-30, 4.3877e-38, 2.7311e-14, 1.1552e-27, 0.0000e+00, 0.0000e+00,\n",
       "          0.0000e+00, 6.2574e-34, 0.0000e+00, 2.0612e-34, 1.1059e-36, 1.0145e-42,\n",
       "          1.8001e-20, 0.0000e+00, 1.9868e-28],\n",
       "         [1.7025e-17, 1.2677e-11, 9.5392e-01, 7.4888e-20, 1.1347e-12, 4.5904e-02,\n",
       "          4.7154e-16, 3.4422e-10, 1.1344e-11, 9.3365e-08, 1.8872e-13, 4.5895e-19,\n",
       "          2.0933e-16, 2.0962e-34, 1.3759e-22, 6.7058e-32, 1.9678e-20, 3.0121e-33,\n",
       "          2.0996e-12, 3.2086e-05, 1.1687e-33, 1.4549e-04, 5.4134e-20, 3.9966e-15,\n",
       "          1.4569e-14, 1.6036e-06, 3.0182e-15],\n",
       "         [6.7068e-17, 8.5824e-16, 1.1883e-08, 1.4493e-11, 2.7887e-08, 4.7438e-15,\n",
       "          9.3307e-16, 2.5935e-11, 6.1483e-22, 9.5685e-12, 3.0913e-19, 2.2805e-19,\n",
       "          1.0619e-09, 8.6508e-26, 1.8201e-20, 1.4586e-15, 1.9550e-16, 2.3377e-15,\n",
       "          1.0546e-10, 1.5108e-10, 6.4780e-13, 9.9994e-01, 1.5314e-18, 3.1129e-09,\n",
       "          2.1383e-13, 5.3563e-05, 5.7937e-06],\n",
       "         [1.6019e-17, 7.8272e-07, 3.8177e-03, 2.0983e-15, 7.6368e-10, 1.4747e-07,\n",
       "          1.6688e-13, 1.5914e-15, 4.3226e-14, 1.2558e-03, 2.6283e-17, 1.1050e-11,\n",
       "          2.6466e-17, 6.7568e-18, 1.0115e-21, 9.9223e-01, 3.7497e-24, 2.9200e-14,\n",
       "          1.3495e-10, 3.3492e-07, 5.6595e-12, 2.6986e-03, 1.1657e-15, 1.9076e-09,\n",
       "          1.2489e-08, 1.9703e-08, 1.3382e-06],\n",
       "         [5.8910e-20, 1.2894e-10, 2.1401e-11, 3.1383e-13, 2.0958e-12, 1.4788e-11,\n",
       "          7.2607e-19, 2.2830e-23, 3.4528e-30, 1.0476e-09, 5.4674e-27, 3.5513e-25,\n",
       "          5.6588e-17, 2.1912e-26, 7.2668e-29, 3.8141e-10, 2.8006e-29, 3.2042e-20,\n",
       "          2.7662e-19, 2.1835e-17, 1.2447e-16, 9.9994e-01, 3.2492e-27, 2.5259e-16,\n",
       "          1.5854e-19, 1.6502e-09, 6.2551e-05],\n",
       "         [1.4091e-17, 7.0266e-15, 1.7669e-05, 4.3182e-11, 2.4967e-12, 5.4680e-08,\n",
       "          8.7416e-16, 7.1322e-20, 5.6744e-20, 1.2917e-04, 3.5964e-19, 1.4924e-14,\n",
       "          1.0458e-20, 1.7888e-21, 5.0781e-33, 1.8194e-03, 4.3492e-28, 5.5343e-14,\n",
       "          9.7410e-06, 4.9234e-07, 3.5538e-09, 7.5390e-01, 6.2544e-21, 2.9737e-08,\n",
       "          2.3061e-14, 2.4413e-01, 3.2345e-07],\n",
       "         [5.5181e-30, 3.2200e-22, 3.2163e-19, 1.7775e-10, 3.7152e-05, 1.4195e-17,\n",
       "          1.6542e-21, 3.3896e-20, 2.6944e-21, 4.1726e-13, 1.2198e-18, 2.8286e-20,\n",
       "          5.1408e-17, 3.3806e-28, 1.6485e-26, 1.6551e-10, 1.2970e-19, 7.8458e-22,\n",
       "          1.0682e-13, 3.3017e-11, 1.1953e-14, 9.9996e-01, 1.0988e-20, 1.5215e-10,\n",
       "          2.4929e-15, 2.3440e-06, 4.7167e-08],\n",
       "         [1.9309e-18, 2.4980e-12, 4.0547e-04, 2.0127e-12, 1.9722e-07, 5.4441e-10,\n",
       "          2.7141e-12, 2.1332e-09, 5.3475e-07, 7.7528e-05, 5.1360e-13, 4.4896e-07,\n",
       "          1.0742e-10, 4.8536e-15, 1.2729e-17, 9.9787e-03, 9.8423e-06, 3.0012e-03,\n",
       "          7.7693e-03, 3.2035e-07, 3.5935e-04, 9.7782e-01, 4.5590e-05, 2.6548e-04,\n",
       "          2.8776e-07, 1.9668e-04, 6.7318e-05]]),\n",
       " tensor(1.))"
      ]
     },
     "execution_count": 26,
     "metadata": {},
     "output_type": "execute_result"
    }
   ],
   "source": [
    "probs = counts/counts.sum(1, keepdim=True)\n",
    "# probs.shape, probs, probs[0].sum()"
   ]
  },
  {
   "cell_type": "code",
   "execution_count": 28,
   "metadata": {},
   "outputs": [
    {
     "data": {
      "text/plain": [
       "tensor(43.3172)"
      ]
     },
     "execution_count": 28,
     "metadata": {},
     "output_type": "execute_result"
    }
   ],
   "source": [
    "loss = - probs[torch.arange(X.shape[0]), Y].log().mean()\n",
    "loss"
   ]
  },
  {
   "cell_type": "markdown",
   "metadata": {},
   "source": [
    "# refactored previous code:"
   ]
  },
  {
   "cell_type": "code",
   "execution_count": 153,
   "metadata": {},
   "outputs": [
    {
     "name": "stdout",
     "output_type": "stream",
     "text": [
      "torch.Size([182625, 3]) torch.Size([182625])\n",
      "torch.Size([22655, 3]) torch.Size([22655])\n",
      "torch.Size([22866, 3]) torch.Size([22866])\n"
     ]
    }
   ],
   "source": [
    "# build the dataset\n",
    "# context length: how many characters do we take to predict the next one?\n",
    "import random\n",
    "block_size = 3\n",
    "\n",
    "\n",
    "def build_dataset(words):\n",
    "    X, Y = [], []\n",
    "    for w in words:\n",
    "\n",
    "        # print(w)\n",
    "        context = [0] * block_size\n",
    "        for ch in w + '.':\n",
    "            ix = chtoi[ch]\n",
    "            X.append(context)\n",
    "            Y.append(ix)\n",
    "            # print(''.join(itos[i] for i in context), '--->', itos[ix])\n",
    "            context = context[1:] + [ix]  # crop and append\n",
    "\n",
    "    X = torch.tensor(X)\n",
    "    Y = torch.tensor(Y)\n",
    "    print(X.shape, Y.shape)\n",
    "    return X, Y\n",
    "\n",
    "\n",
    "random.seed(42)\n",
    "random.shuffle(words)\n",
    "n1 = int(0.8*len(words))\n",
    "n2 = int(0.9*len(words))\n",
    "\n",
    "Xtr, Ytr = build_dataset(words[:n1])\n",
    "Xdev, Ydev = build_dataset(words[n1:n2])\n",
    "Xte, Yte = build_dataset(words[n2:])"
   ]
  },
  {
   "cell_type": "code",
   "execution_count": 31,
   "metadata": {},
   "outputs": [
    {
     "data": {
      "text/plain": [
       "(torch.Size([182580, 3]), torch.Size([182580]))"
      ]
     },
     "execution_count": 31,
     "metadata": {},
     "output_type": "execute_result"
    }
   ],
   "source": [
    "Xtr.shape, Ytr.shape # dataset"
   ]
  },
  {
   "cell_type": "code",
   "execution_count": 79,
   "metadata": {},
   "outputs": [
    {
     "data": {
      "text/plain": [
       "(torch.Size([228146, 3]), torch.int64, torch.Size([228146]), torch.int64)"
      ]
     },
     "execution_count": 79,
     "metadata": {},
     "output_type": "execute_result"
    }
   ],
   "source": [
    "block_size = 3\n",
    "X, Y = [], []\n",
    "for w in words:\n",
    "    # print(w)\n",
    "    input = [0]*block_size\n",
    "    for ch in w+'.':\n",
    "        X.append(input)\n",
    "        Y.append(chtoi[ch])\n",
    "        # print(f'{\"\".join(itoch[i] for i in input)} ---> {ch}')\n",
    "        input = input[1:] + [chtoi[ch]]\n",
    "        \n",
    "X = torch.tensor(X)\n",
    "Y = torch.tensor(Y)\n",
    "X.shape, X.dtype, Y.shape, Y.dtype"
   ]
  },
  {
   "cell_type": "code",
   "execution_count": 188,
   "metadata": {},
   "outputs": [],
   "source": [
    "g = torch.Generator().manual_seed(2147483647) # for reproducibility\n",
    "C = torch.randn((27, 8), generator=g)\n",
    "W1 = torch.randn((24, 256), generator=g)\n",
    "b1 = torch.randn(256, generator=g)\n",
    "W2 = torch.randn((256, 27), generator=g)\n",
    "b2 = torch.randn(27, generator=g)\n",
    "parameters = [C, W1, b1, W2, b2]"
   ]
  },
  {
   "cell_type": "code",
   "execution_count": 189,
   "metadata": {},
   "outputs": [
    {
     "data": {
      "text/plain": [
       "13555"
      ]
     },
     "execution_count": 189,
     "metadata": {},
     "output_type": "execute_result"
    }
   ],
   "source": [
    "sum(p.nelement() for p in parameters) # number of parameters in total"
   ]
  },
  {
   "cell_type": "code",
   "execution_count": 190,
   "metadata": {},
   "outputs": [],
   "source": [
    "for p in parameters:\n",
    "    p.requires_grad = True"
   ]
  },
  {
   "cell_type": "code",
   "execution_count": 191,
   "metadata": {},
   "outputs": [],
   "source": [
    "lri = []\n",
    "lossi = []\n",
    "stepi = []"
   ]
  },
  {
   "cell_type": "code",
   "execution_count": 197,
   "metadata": {},
   "outputs": [],
   "source": [
    "for i in range(50000):\n",
    "    # forward pass\n",
    "    batch_ind = torch.randint(0, Xtr.shape[0], (32,))\n",
    "\n",
    "    emb = C[Xtr[batch_ind]]  # (32, 3, 2)\n",
    "    h = torch.tanh(emb.view(-1, 24) @ W1 + b1)  # (32, 100)\n",
    "    logits = h @ W2 + b2  # (32, 27)\n",
    "    loss = f.cross_entropy(logits, Ytr[batch_ind])\n",
    "    # backward pass\n",
    "    for p in parameters:\n",
    "        p.grad = None\n",
    "    loss.backward()\n",
    "\n",
    "    # update\n",
    "    lr = 0.01\n",
    "    for p in parameters:\n",
    "        p.data += -lr * p.grad\n",
    "\n",
    "    # track stats\n",
    "    # lri.append(lre[i])\n",
    "    stepi.append(i)\n",
    "    lossi.append(loss.log10().item())\n",
    "\n",
    "# print(loss.item())"
   ]
  },
  {
   "cell_type": "code",
   "execution_count": 198,
   "metadata": {},
   "outputs": [
    {
     "data": {
      "text/plain": [
       "[<matplotlib.lines.Line2D at 0x1eaacbb2c10>]"
      ]
     },
     "execution_count": 198,
     "metadata": {},
     "output_type": "execute_result"
    },
    {
     "data": {
      "image/png": "[encoded data removed]",
      "text/plain": [
       "<Figure size 640x480 with 1 Axes>"
      ]
     },
     "metadata": {},
     "output_type": "display_data"
    }
   ],
   "source": [
    "plt.plot(stepi, lossi)"
   ]
  },
  {
   "cell_type": "code",
   "execution_count": 199,
   "metadata": {},
   "outputs": [
    {
     "data": {
      "text/plain": [
       "tensor(2.2046, grad_fn=<NllLossBackward0>)"
      ]
     },
     "execution_count": 199,
     "metadata": {},
     "output_type": "execute_result"
    }
   ],
   "source": [
    "emb = C[Xdev] # (32, 3, 2)\n",
    "h = torch.tanh(emb.view(-1, 24) @ W1 + b1) # (32, 100)\n",
    "logits = h @ W2 + b2 # (32, 27)\n",
    "loss = f.cross_entropy(logits, Ydev)\n",
    "loss"
   ]
  },
  {
   "cell_type": "code",
   "execution_count": 200,
   "metadata": {},
   "outputs": [
    {
     "data": {
      "text/plain": [
       "tensor(2.2129, grad_fn=<NllLossBackward0>)"
      ]
     },
     "execution_count": 200,
     "metadata": {},
     "output_type": "execute_result"
    }
   ],
   "source": [
    "emb = C[Xte] # (32, 3, 2)\n",
    "h = torch.tanh(emb.view(-1, 24) @ W1 + b1) # (32, 100)\n",
    "logits = h @ W2 + b2 # (32, 27)\n",
    "loss = f.cross_entropy(logits, Yte)\n",
    "loss"
   ]
  },
  {
   "cell_type": "code",
   "execution_count": 183,
   "metadata": {},
   "outputs": [
    {
     "data": {
      "image/png": "[encoded data removed]",
      "text/plain": [
       "<Figure size 800x800 with 1 Axes>"
      ]
     },
     "metadata": {},
     "output_type": "display_data"
    }
   ],
   "source": [
    "# visualize dimensions 0 and 1 of the embedding matrix C for all characters\n",
    "plt.figure(figsize=(8,8))\n",
    "plt.scatter(C[:,0].data, C[:,1].data, s=200)\n",
    "for i in range(C.shape[0]):\n",
    "    plt.text(C[i,0].item(), C[i,1].item(), itoch[i], ha=\"center\", va=\"center\", color='white')\n",
    "plt.grid('minor')"
   ]
  }
 ],
 "metadata": {
  "kernelspec": {
   "display_name": "venv1",
   "language": "python",
   "name": "python3"
  },
  "language_info": {
   "codemirror_mode": {
    "name": "ipython",
    "version": 3
   },
   "file_extension": ".py",
   "mimetype": "text/x-python",
   "name": "python",
   "nbconvert_exporter": "python",
   "pygments_lexer": "ipython3",
   "version": "3.11.5"
  }
 },
 "nbformat": 4,
 "nbformat_minor": 2
}
